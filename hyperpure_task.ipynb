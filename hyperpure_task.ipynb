{
 "cells": [
  {
   "cell_type": "markdown",
   "id": "3031ed79-ba9d-4e3b-ad43-6fe90a4c1420",
   "metadata": {},
   "source": [
    "### Installing Required Packages and Setting PrettyTable Default"
   ]
  },
  {
   "cell_type": "code",
   "execution_count": 2,
   "id": "2b388776-9b14-4094-b3d2-1ff588582e70",
   "metadata": {},
   "outputs": [
    {
     "name": "stdout",
     "output_type": "stream",
     "text": [
      "Requirement already satisfied: ipython-sql in c:\\users\\suhani\\anaconda3\\lib\\site-packages (0.5.0)\n",
      "Requirement already satisfied: sqlalchemy in c:\\users\\suhani\\anaconda3\\lib\\site-packages (2.0.25)\n",
      "Requirement already satisfied: prettytable in c:\\users\\suhani\\anaconda3\\lib\\site-packages (from ipython-sql) (3.16.0)\n",
      "Requirement already satisfied: ipython in c:\\users\\suhani\\anaconda3\\lib\\site-packages (from ipython-sql) (8.20.0)\n",
      "Requirement already satisfied: sqlparse in c:\\users\\suhani\\anaconda3\\lib\\site-packages (from ipython-sql) (0.5.3)\n",
      "Requirement already satisfied: six in c:\\users\\suhani\\anaconda3\\lib\\site-packages (from ipython-sql) (1.16.0)\n",
      "Requirement already satisfied: ipython-genutils in c:\\users\\suhani\\anaconda3\\lib\\site-packages (from ipython-sql) (0.2.0)\n",
      "Requirement already satisfied: typing-extensions>=4.6.0 in c:\\users\\suhani\\anaconda3\\lib\\site-packages (from sqlalchemy) (4.9.0)\n",
      "Requirement already satisfied: greenlet!=0.4.17 in c:\\users\\suhani\\anaconda3\\lib\\site-packages (from sqlalchemy) (3.0.1)\n",
      "Requirement already satisfied: decorator in c:\\users\\suhani\\anaconda3\\lib\\site-packages (from ipython->ipython-sql) (5.1.1)\n",
      "Requirement already satisfied: jedi>=0.16 in c:\\users\\suhani\\anaconda3\\lib\\site-packages (from ipython->ipython-sql) (0.18.1)\n",
      "Requirement already satisfied: matplotlib-inline in c:\\users\\suhani\\anaconda3\\lib\\site-packages (from ipython->ipython-sql) (0.1.6)\n",
      "Requirement already satisfied: prompt-toolkit<3.1.0,>=3.0.41 in c:\\users\\suhani\\anaconda3\\lib\\site-packages (from ipython->ipython-sql) (3.0.43)\n",
      "Requirement already satisfied: pygments>=2.4.0 in c:\\users\\suhani\\anaconda3\\lib\\site-packages (from ipython->ipython-sql) (2.15.1)\n",
      "Requirement already satisfied: stack-data in c:\\users\\suhani\\anaconda3\\lib\\site-packages (from ipython->ipython-sql) (0.2.0)\n",
      "Requirement already satisfied: traitlets>=5 in c:\\users\\suhani\\anaconda3\\lib\\site-packages (from ipython->ipython-sql) (5.7.1)\n",
      "Requirement already satisfied: colorama in c:\\users\\suhani\\anaconda3\\lib\\site-packages (from ipython->ipython-sql) (0.4.6)\n",
      "Requirement already satisfied: wcwidth in c:\\users\\suhani\\anaconda3\\lib\\site-packages (from prettytable->ipython-sql) (0.2.5)\n",
      "Requirement already satisfied: parso<0.9.0,>=0.8.0 in c:\\users\\suhani\\anaconda3\\lib\\site-packages (from jedi>=0.16->ipython->ipython-sql) (0.8.3)\n",
      "Requirement already satisfied: executing in c:\\users\\suhani\\anaconda3\\lib\\site-packages (from stack-data->ipython->ipython-sql) (0.8.3)\n",
      "Requirement already satisfied: asttokens in c:\\users\\suhani\\anaconda3\\lib\\site-packages (from stack-data->ipython->ipython-sql) (2.0.5)\n",
      "Requirement already satisfied: pure-eval in c:\\users\\suhani\\anaconda3\\lib\\site-packages (from stack-data->ipython->ipython-sql) (0.2.2)\n"
     ]
    }
   ],
   "source": [
    "!pip install ipython-sql sqlalchemy\n",
    "\n",
    "import prettytable\n",
    "prettytable.DEFAULT = 'DEFAULT'"
   ]
  },
  {
   "cell_type": "markdown",
   "id": "9798c5e5-00cc-4c6a-9574-c46029054e4a",
   "metadata": {},
   "source": [
    "### Importing Libraries and Connecting to SQLite Database"
   ]
  },
  {
   "cell_type": "code",
   "execution_count": 4,
   "id": "b2a32edd-701b-4935-8cce-9eef1813b6d0",
   "metadata": {},
   "outputs": [],
   "source": [
    "import csv, sqlite3\n",
    "\n",
    "con = sqlite3.connect(\"FinalDB.db\")\n",
    "cur = con.cursor()  # Cursor object to execute SQL queries"
   ]
  },
  {
   "cell_type": "markdown",
   "id": "4f44ec5f-bd01-4cb4-9477-95263f3dc4c7",
   "metadata": {},
   "source": [
    "### Installing and Loading ipython-sql Extension for Jupyter"
   ]
  },
  {
   "cell_type": "code",
   "execution_count": null,
   "id": "e07031a9-b2e7-4d15-b82c-e1b2c5095f0b",
   "metadata": {},
   "outputs": [],
   "source": [
    "!pip install ipython-sql\n",
    "\n",
    "# Loads %sql and %%sql magics\n",
    "%load_ext sql"
   ]
  },
  {
   "cell_type": "markdown",
   "id": "14113501-caa3-47e5-8baa-6fa8b04e0c02",
   "metadata": {},
   "source": [
    "### Importing Pandas and Connecting to SQLite Database"
   ]
  },
  {
   "cell_type": "code",
   "execution_count": null,
   "id": "e7b7631f-5c6d-4ec0-a294-18a365d3d505",
   "metadata": {},
   "outputs": [],
   "source": [
    "import pandas as pd\n",
    "import sqlite3\n",
    "\n",
    "# Establishes a connection to the 'FinalDB.db' SQLite database\n",
    "conn = sqlite3.connect(\"FinalDB.db\")"
   ]
  },
  {
   "cell_type": "code",
   "execution_count": null,
   "id": "e54c7f2b-49bd-4a3e-9be9-de791067fa8e",
   "metadata": {},
   "outputs": [],
   "source": [
    "df = pd.read_excel('synthetic_cc_tx.xlsx')"
   ]
  },
  {
   "cell_type": "code",
   "execution_count": null,
   "id": "e4666358-14ef-48e8-a203-4cc5aecfbfcc",
   "metadata": {},
   "outputs": [],
   "source": [
    "df.to_sql(\"CC_DATA\", conn, if_exists=\"replace\", index=False)"
   ]
  },
  {
   "cell_type": "code",
   "execution_count": null,
   "id": "3ca40fa3-9eb3-47ad-9f19-20623dd2cf86",
   "metadata": {},
   "outputs": [],
   "source": [
    "# Close the connection\n",
    "conn.close()\n",
    "\n",
    "print(\"Data successfully loaded into FinalDB.db\")"
   ]
  },
  {
   "cell_type": "code",
   "execution_count": null,
   "id": "4fc3f360-09d7-46f5-bbe4-e72bc0d54fa7",
   "metadata": {},
   "outputs": [],
   "source": [
    "#Establishing a connection between SQL magic module and the database `FinalDB.db`\n",
    "%reload_ext sql\n",
    "%sql sqlite:///FinalDB.db"
   ]
  },
  {
   "cell_type": "markdown",
   "id": "97b7a84f-09e8-4d79-ac47-0db4d5dcc42f",
   "metadata": {},
   "source": [
    "### Checking loaded tables"
   ]
  },
  {
   "cell_type": "code",
   "execution_count": null,
   "id": "ba707dd8-d1d0-4ea6-ab39-0c769801f387",
   "metadata": {},
   "outputs": [],
   "source": [
    "%%sql\n",
    "-- Check tables loaded in the database\n",
    "SELECT name FROM sqlite_master WHERE type='table';"
   ]
  },
  {
   "cell_type": "code",
   "execution_count": null,
   "id": "5f3f8839-0d90-4798-afba-dfe688ad5ab8",
   "metadata": {},
   "outputs": [],
   "source": [
    "%%sql\n",
    "PRAGMA table_info(CC_DATA);"
   ]
  },
  {
   "cell_type": "code",
   "execution_count": null,
   "id": "822685fd-53b1-49ca-bf67-74589dfeda45",
   "metadata": {},
   "outputs": [],
   "source": [
    "df.head()"
   ]
  },
  {
   "cell_type": "code",
   "execution_count": null,
   "id": "c18fa84e-aad3-498f-b7e1-2eb7f58f4635",
   "metadata": {},
   "outputs": [],
   "source": [
    "## Calculate: total_transactions, unique_users and total_transaction_amount for every date and hour combination."
   ]
  },
  {
   "cell_type": "code",
   "execution_count": null,
   "id": "289727bb-136a-4f3d-bedd-1b47e48b3e2b",
   "metadata": {},
   "outputs": [],
   "source": [
    "%%sql\n",
    "SELECT \n",
    "    DATE(timestamp) AS txn_date,\n",
    "    STRFTIME('%H', timestamp) AS txn_hour,\n",
    "    COUNT(*) AS total_transactions,\n",
    "    COUNT(DISTINCT user_id) AS unique_users,\n",
    "    SUM(tx_amt) AS total_transaction_amount\n",
    "FROM CC_DATA\n",
    "GROUP BY txn_date, txn_hour\n",
    "ORDER BY txn_date, txn_hour;"
   ]
  },
  {
   "cell_type": "code",
   "execution_count": null,
   "id": "35717233-cd03-4554-a931-c00072dc6e95",
   "metadata": {},
   "outputs": [],
   "source": [
    "#timestamp to datetime\n",
    "df['timestamp'] = pd.to_datetime(df['timestamp'])\n",
    "#columns for date and hour\n",
    "df['date'] = df['timestamp'].dt.date\n",
    "df['hour'] = df['timestamp'].dt.hour\n",
    "\n",
    "#Group by date and hour\n",
    "result = df.groupby(['date', 'hour']).agg(\n",
    "    total_transactions=('tx_id', 'count'),\n",
    "    unique_users=('user_id', 'nunique'),\n",
    "    total_transaction_amount=('tx_amt', 'sum')).reset_index()\n",
    "#Display result\n",
    "print(result)"
   ]
  },
  {
   "cell_type": "markdown",
   "id": "8dd7e4a8-8985-44e1-bb9f-e0e29b189e7d",
   "metadata": {},
   "source": [
    "## Insights:\n",
    "#### 1. User Engagement by Time of Day\n",
    "Hourly transaction counts help identify peak hours of user activity.\n",
    "\n",
    "Businesses can Optimize marketing efforts during high-traffic hours.\n",
    "\n",
    "Allocate server or delivery resources efficiently.\n",
    "\n",
    "Run promotions or offers during low-engagement hours to boost usage.\n",
    "\n",
    "#### 2. Transaction Volume Patterns\n",
    "total_transactions shows how active the platform is.\n",
    "\n",
    "If consistent spikes are observed at specific times (e.g., evenings), it reflects user behavior trends.\n",
    "\n",
    "Sharp drops may indicate technical issues, off-hours, or lack of engagement.\n",
    "\n",
    "#### 3. Unique Users vs. Transactions\n",
    "unique_users vs. total_transactions comparison helps identify:\n",
    "\n",
    "Repeat transactions by the same user in a short time span.\n",
    "\n",
    "One-time users, indicating low retention or low engagement.\n",
    "\n",
    "High repeat usage can signal customer loyalty, while one-off transactions may need user retention strategies.\n",
    "\n",
    "#### 4. Revenue Analysis\n",
    "total_transaction_amount reflects the monetary value of transactions in each time window.\n",
    "\n",
    "High-value transactions in off-peak hours might be due to:\n",
    "\n",
    "Bulk/wholesale purchases\n",
    "\n",
    "Loyal or high-spending customers\n",
    "\n",
    "Businesses can analyze these to:\n",
    "\n",
    "Identify and segment high-value users\n",
    "\n",
    "Tailor offers or services for them\n",
    "\n",
    "#### 5. Temporal Trends\n",
    "Looking at how these metrics evolve across days and hours allows:\n",
    "\n",
    "Detection of daily/weekly cycles (e.g., weekends vs weekdays)\n",
    "\n",
    "Planning operations, support, and marketing schedules accordingly\n",
    "\n",
    "#### 6. Fraud or Anomaly Detection\n",
    "Unusual spikes in transaction count or amount (especially from a few users) can trigger fraud checks.\n",
    "\n",
    "Outlier detection (e.g., very high tx_amt in low activity hours) is critical in financial systems.\n",
    "\n",
    "#### 7. Load Forecasting\n",
    "Understanding hourly demand helps:\n",
    "\n",
    "Predict system/server load\n",
    "\n",
    "Prepare for scale (e.g., sale events, paydays, festivals)"
   ]
  },
  {
   "cell_type": "code",
   "execution_count": null,
   "id": "9ba4d09a-8bbb-4f46-9d4a-d2495dba02af",
   "metadata": {},
   "outputs": [],
   "source": [
    "##  Calculate hour with highest transaction_amount for every date"
   ]
  },
  {
   "cell_type": "code",
   "execution_count": null,
   "id": "20576f3b-302e-4c89-8c4a-865865b98659",
   "metadata": {},
   "outputs": [],
   "source": [
    "%%sql\n",
    "SELECT DATE(timestamp) AS transaction_date,STRFTIME('%H', timestamp) AS transaction_hour,SUM(tx_amt) AS total_amount\n",
    "FROM CC_DATA\n",
    "GROUP BY transaction_date, transaction_hour\n",
    "HAVING total_amount = (SELECT MAX(hour_total) FROM (SELECT SUM(tx_amt) AS hour_total FROM CC_DATA WHERE DATE(timestamp) = transaction_date GROUP BY STRFTIME('%H', timestamp)))\n",
    "ORDER BY transaction_date;\n"
   ]
  },
  {
   "cell_type": "code",
   "execution_count": null,
   "id": "1f7b330a-4344-430a-9cf9-744cb6eda799",
   "metadata": {},
   "outputs": [],
   "source": [
    "grouped = df.groupby(['date', 'hour'])['tx_amt'].sum().reset_index()\n",
    "#hour with highest transaction amount per date\n",
    "result = grouped.loc[grouped.groupby('date')['tx_amt'].idxmax()].reset_index(drop=True)\n",
    "print(result)"
   ]
  },
  {
   "cell_type": "markdown",
   "id": "7a1dc4a5-2019-4f2d-a29c-70172998eb79",
   "metadata": {},
   "source": [
    "#### Peak Earning Hours Per Day\n",
    "On each day, a specific hour contributes the most revenue.\n",
    "\n",
    "Businesses can:\n",
    "\n",
    "Target promotions during this time to further capitalize.\n",
    "\n",
    "Ensure system uptime and smooth operations during those hours.\n",
    "\n",
    "Allocate resources or support teams accordingly.\n",
    "\n",
    "#### Revenue-Driving Patterns\n",
    "Example: Jan 1st saw the highest revenue during 9 PM (21 hr) — indicates evening spending behavior.\n",
    "\n",
    "Jan 2nd’s peak at 5 AM might signal:\n",
    "\n",
    "Users from different time zones.\n",
    "\n",
    "Scheduled transactions.\n",
    "\n",
    "Automated systems.\n",
    "\n",
    "Jan 3rd at 8 AM might reflect morning use (e.g., payments, checkouts).\n",
    "\n",
    "#### Time-Based Segmentation\n",
    "Different users may engage at different times, so analyzing high-transaction hours helps create time-specific user personas:\n",
    "\n",
    "Night owls vs early risers.\n",
    "\n",
    "Work-hour spenders vs off-hour shoppers.\n",
    "\n",
    "#### Anomaly or Fraud Check\n",
    "Unusual spikes in non-business hours (e.g., 5 AM) should be investigated.\n",
    "\n",
    "Repeated peaks in odd hours might point to bots, automated scripts, or testing data if synthetic.\n",
    "\n",
    "#### Use Case for Dynamic Pricing / Load Management\n",
    "Dynamic pricing can be introduced during peak hours.\n",
    "\n",
    "Predictive modeling can use this trend to forecast peak loads and preemptively allocate infrastructure."
   ]
  }
 ],
 "metadata": {
  "kernelspec": {
   "display_name": "Python 3 (ipykernel)",
   "language": "python",
   "name": "python3"
  },
  "language_info": {
   "codemirror_mode": {
    "name": "ipython",
    "version": 3
   },
   "file_extension": ".py",
   "mimetype": "text/x-python",
   "name": "python",
   "nbconvert_exporter": "python",
   "pygments_lexer": "ipython3",
   "version": "3.11.7"
  }
 },
 "nbformat": 4,
 "nbformat_minor": 5
}
